{
  "nbformat": 4,
  "nbformat_minor": 0,
  "metadata": {
    "colab": {
      "provenance": []
    },
    "kernelspec": {
      "name": "python3",
      "display_name": "Python 3"
    },
    "language_info": {
      "name": "python"
    }
  },
  "cells": [
    {
      "cell_type": "code",
      "execution_count": null,
      "metadata": {
        "id": "h9a6a2NeGKva",
        "colab": {
          "base_uri": "https://localhost:8080/"
        },
        "outputId": "83b719ea-60ca-4d58-d6e6-4f4d51719251"
      },
      "outputs": [
        {
          "output_type": "stream",
          "name": "stdout",
          "text": [
            "Digite a primeira nota do aluno: 1\n",
            "Digite a próxima nota do aluno: 2\n",
            "Deseja inserir outra nota? (s/n): s\n",
            "Digite a próxima nota do aluno: 5\n",
            "Deseja inserir outra nota? (s/n): n\n",
            "\n",
            "===== RELATÓRIO FINAL =====\n",
            "Notas inseridas: [1.0, 2.0, 5.0]\n",
            "Média: 2.67\n",
            "Situação: Reprovado\n"
          ]
        }
      ],
      "source": [
        "# Unidade 1 – Introdução a Linguagem Python\n",
        "# Atividade Prática\n",
        "# Bruno Guimarães\n",
        "\n",
        "def calcular_media(lista_notas):\n",
        "    \"\"\"\n",
        "    Recebe uma lista de notas (floats) e retorna a média aritmética.\n",
        "    \"\"\"\n",
        "    if len(lista_notas) == 0:  # evita divisão por zero\n",
        "        return 0.0\n",
        "    return sum(lista_notas) / len(lista_notas)\n",
        "\n",
        "\n",
        "def verificar_situacao(media):\n",
        "    \"\"\"\n",
        "    Retorna 'Aprovado' se média >= 7, caso contrário 'Reprovado'.\n",
        "    \"\"\"\n",
        "    if media >= 7:\n",
        "        return \"Aprovado\"\n",
        "    else:\n",
        "        return \"Reprovado\"\n",
        "\n",
        "\n",
        "# Lista para armazenar as notas\n",
        "notas = []\n",
        "\n",
        "# Sempre pede a primeira nota\n",
        "nota = float(input(\"Digite a primeira nota do aluno: \"))\n",
        "if 0 <= nota <= 10:\n",
        "    notas.append(nota)\n",
        "else:\n",
        "    print(\"Nota inválida! Digite um valor entre 0 e 10.\")\n",
        "\n",
        "# A partir da segunda nota, pergunta se quer continuar\n",
        "while True:\n",
        "    nota = float(input(\"Digite a próxima nota do aluno: \"))\n",
        "\n",
        "    if 0 <= nota <= 10:\n",
        "        notas.append(nota)\n",
        "    else:\n",
        "        print(\"Nota inválida! Digite um valor entre 0 e 10.\")\n",
        "\n",
        "    # Só pergunta se deseja continuar depois de já ter pelo menos 2 notas\n",
        "    if len(notas) >= 2:\n",
        "        continuar = input(\"Deseja inserir outra nota? (s/n): \").strip().lower()\n",
        "        if continuar != 's':\n",
        "            break\n",
        "\n",
        "# Cálculo da média\n",
        "media = calcular_media(notas)\n",
        "\n",
        "# Determinação da situação\n",
        "situacao = verificar_situacao(media)\n",
        "\n",
        "# Relatório final\n",
        "print(\"\\n===== RELATÓRIO FINAL =====\")\n",
        "print(f\"Notas inseridas: {notas}\")\n",
        "print(f\"Média: {media:.2f}\")\n",
        "print(f\"Situação: {situacao}\")\n"
      ]
    }
  ]
}