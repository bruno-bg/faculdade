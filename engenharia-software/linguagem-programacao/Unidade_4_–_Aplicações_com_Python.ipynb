{
  "nbformat": 4,
  "nbformat_minor": 0,
  "metadata": {
    "colab": {
      "provenance": []
    },
    "kernelspec": {
      "name": "python3",
      "display_name": "Python 3"
    },
    "language_info": {
      "name": "python"
    }
  },
  "cells": [
    {
      "cell_type": "code",
      "source": [
        "# Unidade 4 – Aplicações com Python\n",
        "# Atividade Prática\n",
        "# Bruno Guimarães\n",
        "\n",
        "# ---- Passo 1: Importar bibliotecas e carregar dados ----\n",
        "import os\n",
        "import random\n",
        "import numpy as np\n",
        "import tensorflow as tf\n",
        "import pandas as pd\n",
        "\n",
        "from sklearn.datasets import load_iris\n",
        "from sklearn.model_selection import train_test_split\n",
        "from sklearn.preprocessing import StandardScaler\n",
        "from sklearn.metrics import confusion_matrix, classification_report\n",
        "\n",
        "# (Opcional) fixar sementes para reprodutibilidade\n",
        "SEED = 42\n",
        "random.seed(SEED)\n",
        "np.random.seed(SEED)\n",
        "tf.random.set_seed(SEED)\n",
        "\n",
        "# Carregar conjunto de dados Iris\n",
        "iris = load_iris()\n",
        "X = iris.data          # array (150, 4) com as 4 features\n",
        "y = iris.target        # array (150,) com rótulos 0, 1, 2\n",
        "class_names = iris.target_names  # ['setosa', 'versicolor', 'virginica']\n",
        "\n",
        "# Transformar em DataFrame (opcional, só para visualização)\n",
        "df = pd.DataFrame(X, columns=iris.feature_names)\n",
        "df[\"target\"] = y\n",
        "print(\"Amostras iniciais:\\n\", df.head(), \"\\n\")\n",
        "\n",
        "# ---- Passo 2: Pré-processamento (split + normalização) ----\n",
        "# Split treino/teste com estratificação para manter proporção das classes\n",
        "X_train, X_test, y_train, y_test = train_test_split(\n",
        "    X, y, test_size=0.2, stratify=y, random_state=SEED\n",
        ")\n",
        "\n",
        "# Normalizar features com StandardScaler (fit em treino; transform em treino e teste)\n",
        "scaler = StandardScaler()\n",
        "X_train_scaled = scaler.fit_transform(X_train)\n",
        "X_test_scaled  = scaler.transform(X_test)\n",
        "\n",
        "# ---- Passo 3: Construir o modelo (Keras Sequential) ----\n",
        "model = tf.keras.Sequential([\n",
        "    tf.keras.layers.Input(shape=(X_train_scaled.shape[1],)),  # 4 features\n",
        "    tf.keras.layers.Dense(16, activation=\"relu\"),\n",
        "    tf.keras.layers.Dense(8, activation=\"relu\"),\n",
        "    tf.keras.layers.Dense(3, activation=\"softmax\")  # 3 classes\n",
        "])\n",
        "\n",
        "model.compile(\n",
        "    optimizer=\"adam\",\n",
        "    loss=\"sparse_categorical_crossentropy\",  # rótulos inteiros (0,1,2)\n",
        "    metrics=[\"accuracy\"]\n",
        ")\n",
        "\n",
        "model.summary()\n",
        "\n",
        "# ---- Passo 4: Treinar o modelo ----\n",
        "history = model.fit(\n",
        "    X_train_scaled, y_train,\n",
        "    epochs=80,            # pode ajustar (ex.: 50~150)\n",
        "    batch_size=16,        # mini-batch\n",
        "    validation_split=0.2, # separa parte do treino para validação\n",
        "    verbose=0             # 0 = silencioso | 1 = barra | 2 = por época\n",
        ")\n",
        "\n",
        "print(\"Treinamento concluído.\\n\")\n",
        "\n",
        "# ---- Passo 5: Avaliar o modelo no conjunto de teste ----\n",
        "test_loss, test_acc = model.evaluate(X_test_scaled, y_test, verbose=0)\n",
        "print(f\"Desempenho no teste: loss={test_loss:.4f} | accuracy={test_acc:.4f}\\n\")\n",
        "\n",
        "# Métricas detalhadas\n",
        "y_proba = model.predict(X_test_scaled, verbose=0)         # probabilidades\n",
        "y_pred  = np.argmax(y_proba, axis=1)                      # classes previstas\n",
        "\n",
        "print(\"Matriz de confusão:\")\n",
        "print(confusion_matrix(y_test, y_pred), \"\\n\")\n",
        "\n",
        "print(\"Classification report:\")\n",
        "print(classification_report(y_test, y_pred, target_names=class_names))\n",
        "\n",
        "# ---- Passo 6: Fazer previsões (exemplos) ----\n",
        "# Seleciona algumas amostras do X_test\n",
        "num_show = min(5, len(X_test_scaled))\n",
        "print(f\"\\n Algumas previsões ({num_show} amostras):\")\n",
        "for i in range(num_show):\n",
        "    probs = y_proba[i]\n",
        "    pred_class = y_pred[i]\n",
        "    true_class = y_test[i]\n",
        "    print(\n",
        "        f\"Ex{i+1}: true={class_names[true_class]:>10s} | \"\n",
        "        f\"pred={class_names[pred_class]:>10s} | \"\n",
        "        f\"probs={np.round(probs, 3)}\"\n",
        "    )\n",
        "\n",
        "# (Opcional) salvar o modelo treinado\n",
        "model.save(\"modelo_iris_tf.keras\")\n",
        "print(\"\\n Modelo salvo em 'modelo_iris_tf.keras'.\")\n"
      ],
      "metadata": {
        "colab": {
          "base_uri": "https://localhost:8080/",
          "height": 1000
        },
        "id": "zZSzvyJ13UG5",
        "outputId": "10b5c7bc-d812-48f2-9a66-22deccc5ba36"
      },
      "execution_count": null,
      "outputs": [
        {
          "output_type": "stream",
          "name": "stdout",
          "text": [
            "Amostras iniciais:\n",
            "    sepal length (cm)  sepal width (cm)  petal length (cm)  petal width (cm)  \\\n",
            "0                5.1               3.5                1.4               0.2   \n",
            "1                4.9               3.0                1.4               0.2   \n",
            "2                4.7               3.2                1.3               0.2   \n",
            "3                4.6               3.1                1.5               0.2   \n",
            "4                5.0               3.6                1.4               0.2   \n",
            "\n",
            "   target  \n",
            "0       0  \n",
            "1       0  \n",
            "2       0  \n",
            "3       0  \n",
            "4       0   \n",
            "\n"
          ]
        },
        {
          "output_type": "display_data",
          "data": {
            "text/plain": [
              "\u001b[1mModel: \"sequential\"\u001b[0m\n"
            ],
            "text/html": [
              "<pre style=\"white-space:pre;overflow-x:auto;line-height:normal;font-family:Menlo,'DejaVu Sans Mono',consolas,'Courier New',monospace\"><span style=\"font-weight: bold\">Model: \"sequential\"</span>\n",
              "</pre>\n"
            ]
          },
          "metadata": {}
        },
        {
          "output_type": "display_data",
          "data": {
            "text/plain": [
              "┏━━━━━━━━━━━━━━━━━━━━━━━━━━━━━━━━━┳━━━━━━━━━━━━━━━━━━━━━━━━┳━━━━━━━━━━━━━━━┓\n",
              "┃\u001b[1m \u001b[0m\u001b[1mLayer (type)                   \u001b[0m\u001b[1m \u001b[0m┃\u001b[1m \u001b[0m\u001b[1mOutput Shape          \u001b[0m\u001b[1m \u001b[0m┃\u001b[1m \u001b[0m\u001b[1m      Param #\u001b[0m\u001b[1m \u001b[0m┃\n",
              "┡━━━━━━━━━━━━━━━━━━━━━━━━━━━━━━━━━╇━━━━━━━━━━━━━━━━━━━━━━━━╇━━━━━━━━━━━━━━━┩\n",
              "│ dense (\u001b[38;5;33mDense\u001b[0m)                   │ (\u001b[38;5;45mNone\u001b[0m, \u001b[38;5;34m16\u001b[0m)             │            \u001b[38;5;34m80\u001b[0m │\n",
              "├─────────────────────────────────┼────────────────────────┼───────────────┤\n",
              "│ dense_1 (\u001b[38;5;33mDense\u001b[0m)                 │ (\u001b[38;5;45mNone\u001b[0m, \u001b[38;5;34m8\u001b[0m)              │           \u001b[38;5;34m136\u001b[0m │\n",
              "├─────────────────────────────────┼────────────────────────┼───────────────┤\n",
              "│ dense_2 (\u001b[38;5;33mDense\u001b[0m)                 │ (\u001b[38;5;45mNone\u001b[0m, \u001b[38;5;34m3\u001b[0m)              │            \u001b[38;5;34m27\u001b[0m │\n",
              "└─────────────────────────────────┴────────────────────────┴───────────────┘\n"
            ],
            "text/html": [
              "<pre style=\"white-space:pre;overflow-x:auto;line-height:normal;font-family:Menlo,'DejaVu Sans Mono',consolas,'Courier New',monospace\">┏━━━━━━━━━━━━━━━━━━━━━━━━━━━━━━━━━┳━━━━━━━━━━━━━━━━━━━━━━━━┳━━━━━━━━━━━━━━━┓\n",
              "┃<span style=\"font-weight: bold\"> Layer (type)                    </span>┃<span style=\"font-weight: bold\"> Output Shape           </span>┃<span style=\"font-weight: bold\">       Param # </span>┃\n",
              "┡━━━━━━━━━━━━━━━━━━━━━━━━━━━━━━━━━╇━━━━━━━━━━━━━━━━━━━━━━━━╇━━━━━━━━━━━━━━━┩\n",
              "│ dense (<span style=\"color: #0087ff; text-decoration-color: #0087ff\">Dense</span>)                   │ (<span style=\"color: #00d7ff; text-decoration-color: #00d7ff\">None</span>, <span style=\"color: #00af00; text-decoration-color: #00af00\">16</span>)             │            <span style=\"color: #00af00; text-decoration-color: #00af00\">80</span> │\n",
              "├─────────────────────────────────┼────────────────────────┼───────────────┤\n",
              "│ dense_1 (<span style=\"color: #0087ff; text-decoration-color: #0087ff\">Dense</span>)                 │ (<span style=\"color: #00d7ff; text-decoration-color: #00d7ff\">None</span>, <span style=\"color: #00af00; text-decoration-color: #00af00\">8</span>)              │           <span style=\"color: #00af00; text-decoration-color: #00af00\">136</span> │\n",
              "├─────────────────────────────────┼────────────────────────┼───────────────┤\n",
              "│ dense_2 (<span style=\"color: #0087ff; text-decoration-color: #0087ff\">Dense</span>)                 │ (<span style=\"color: #00d7ff; text-decoration-color: #00d7ff\">None</span>, <span style=\"color: #00af00; text-decoration-color: #00af00\">3</span>)              │            <span style=\"color: #00af00; text-decoration-color: #00af00\">27</span> │\n",
              "└─────────────────────────────────┴────────────────────────┴───────────────┘\n",
              "</pre>\n"
            ]
          },
          "metadata": {}
        },
        {
          "output_type": "display_data",
          "data": {
            "text/plain": [
              "\u001b[1m Total params: \u001b[0m\u001b[38;5;34m243\u001b[0m (972.00 B)\n"
            ],
            "text/html": [
              "<pre style=\"white-space:pre;overflow-x:auto;line-height:normal;font-family:Menlo,'DejaVu Sans Mono',consolas,'Courier New',monospace\"><span style=\"font-weight: bold\"> Total params: </span><span style=\"color: #00af00; text-decoration-color: #00af00\">243</span> (972.00 B)\n",
              "</pre>\n"
            ]
          },
          "metadata": {}
        },
        {
          "output_type": "display_data",
          "data": {
            "text/plain": [
              "\u001b[1m Trainable params: \u001b[0m\u001b[38;5;34m243\u001b[0m (972.00 B)\n"
            ],
            "text/html": [
              "<pre style=\"white-space:pre;overflow-x:auto;line-height:normal;font-family:Menlo,'DejaVu Sans Mono',consolas,'Courier New',monospace\"><span style=\"font-weight: bold\"> Trainable params: </span><span style=\"color: #00af00; text-decoration-color: #00af00\">243</span> (972.00 B)\n",
              "</pre>\n"
            ]
          },
          "metadata": {}
        },
        {
          "output_type": "display_data",
          "data": {
            "text/plain": [
              "\u001b[1m Non-trainable params: \u001b[0m\u001b[38;5;34m0\u001b[0m (0.00 B)\n"
            ],
            "text/html": [
              "<pre style=\"white-space:pre;overflow-x:auto;line-height:normal;font-family:Menlo,'DejaVu Sans Mono',consolas,'Courier New',monospace\"><span style=\"font-weight: bold\"> Non-trainable params: </span><span style=\"color: #00af00; text-decoration-color: #00af00\">0</span> (0.00 B)\n",
              "</pre>\n"
            ]
          },
          "metadata": {}
        },
        {
          "output_type": "stream",
          "name": "stdout",
          "text": [
            "Treinamento concluído.\n",
            "\n",
            "Desempenho no teste: loss=0.2917 | accuracy=0.8333\n",
            "\n",
            "Matriz de confusão:\n",
            "[[10  0  0]\n",
            " [ 0  5  5]\n",
            " [ 0  0 10]] \n",
            "\n",
            "Classification report:\n",
            "              precision    recall  f1-score   support\n",
            "\n",
            "      setosa       1.00      1.00      1.00        10\n",
            "  versicolor       1.00      0.50      0.67        10\n",
            "   virginica       0.67      1.00      0.80        10\n",
            "\n",
            "    accuracy                           0.83        30\n",
            "   macro avg       0.89      0.83      0.82        30\n",
            "weighted avg       0.89      0.83      0.82        30\n",
            "\n",
            "\n",
            "Algumas previsões (5 amostras):\n",
            "Ex1: true=    setosa | pred=    setosa | probs=[0.993 0.006 0.001]\n",
            "Ex2: true= virginica | pred= virginica | probs=[0.005 0.252 0.743]\n",
            "Ex3: true=versicolor | pred=versicolor | probs=[0.073 0.855 0.072]\n",
            "Ex4: true=versicolor | pred=versicolor | probs=[0.035 0.906 0.059]\n",
            "Ex5: true=    setosa | pred=    setosa | probs=[0.995 0.004 0.001]\n",
            "\n",
            "Modelo salvo em 'modelo_iris_tf.keras'.\n"
          ]
        }
      ]
    }
  ]
}